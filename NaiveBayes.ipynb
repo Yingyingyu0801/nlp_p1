{
 "cells": [
  {
   "cell_type": "code",
   "execution_count": 44,
   "metadata": {},
   "outputs": [],
   "source": [
    "from collections import defaultdict\n",
    "import numpy as np\n",
    "import pandas as pd \n",
    "from sklearn.utils import shuffle"
   ]
  },
  {
   "cell_type": "code",
   "execution_count": 45,
   "metadata": {},
   "outputs": [],
   "source": [
    "# load text\n",
    "\n",
    "def load_train_data(bow, data_path):\n",
    "    reviews = []\n",
    "    f = open(data_path, \"r\")\n",
    "    for line in f:\n",
    "        review = line.split(\" \")\n",
    "        reviews.append(review)\n",
    "        for word in review:\n",
    "            if word not in bow:\n",
    "                bow[word] = len(bow)\n",
    "#             else:\n",
    "#                 bow[word] = bow[word] + 1\n",
    "    return reviews\n",
    "                \n",
    "                \n",
    "def load_validation_data(data_path):\n",
    "    reviews = []\n",
    "    f = open(data_path, \"r\")\n",
    "    for line in f:\n",
    "        review = line.split(\" \")\n",
    "        reviews.append(review)\n",
    "    return reviews\n",
    "        \n",
    "def unigram_BOW(reviews, bow, label):\n",
    "    raw = []\n",
    "    length = len(bow)\n",
    "    for review in reviews:\n",
    "        cur_bow = np.zeros(length)\n",
    "        for word in review:\n",
    "            if word in bow:\n",
    "                cur_bow[bow[word]] += 1\n",
    "            else:\n",
    "                cur_bow[bow['UNKNOWN']] += 1\n",
    "        raw.append([cur_bow, label])\n",
    "        \n",
    "    return raw\n",
    "                \n",
    "            \n",
    "train_decep = \"./train/deceptive.txt\"\n",
    "train_truth = \"./train/truthful.txt\"\n",
    "validation_decep = \"./validation/deceptive.txt\"\n",
    "validation_truth = \"./validation/truthful.txt\"\n",
    "\n",
    "uni_bow = {}\n",
    "\n",
    "deceptive_reviews_train  = load_train_data(uni_bow, train_decep)\n",
    "truthful_reviews_train = load_train_data(uni_bow, train_truth)\n",
    "uni_bow['UNKNOWN'] = len(uni_bow)\n",
    "\n",
    "deceptive_reviews_val = load_validation_data(validation_decep)\n",
    "truthful_reviews_val = load_validation_data(validation_truth)            \n",
    "    \n",
    "# generate unigram BOW\n",
    "uni_train = unigram_BOW(deceptive_reviews_train, uni_bow, 0) + unigram_BOW(truthful_reviews_train, uni_bow, 1)\n",
    "uni_val = unigram_BOW(deceptive_reviews_val, uni_bow, 0) + unigram_BOW(truthful_reviews_val, uni_bow, 1)\n",
    "\n",
    "uni_train_X_y = shuffle(pd.DataFrame(uni_train, columns = ['X', 'y']))\n",
    "uni_val_X_y = shuffle(pd.DataFrame(uni_val, columns = ['X', 'y']))\n"
   ]
  },
  {
   "cell_type": "code",
   "execution_count": 46,
   "metadata": {},
   "outputs": [
    {
     "name": "stdout",
     "output_type": "stream",
     "text": [
      "Accuracy: 0.91796875\n"
     ]
    }
   ],
   "source": [
    "# train unigram NB \n",
    "import sklearn\n",
    "from sklearn.naive_bayes import MultinomialNB\n",
    "from sklearn import metrics\n",
    "\n",
    "uni_X_train, uni_y_train = list(uni_train_X_y.loc[:,'X']), list(uni_train_X_y.loc[:,'y'])\n",
    "uni_X_val, uni_y_val = list(uni_val_X_y.loc[:,'X']), list(uni_val_X_y.loc[:,'y'])\n",
    "\n",
    "clf = MultinomialNB()\n",
    "clf.fit(uni_X_train, uni_y_train)\n",
    "\n",
    "MultinomialNB(alpha=1.0, class_prior=None, fit_prior=True)\n",
    "uni_y_pred = clf.predict(uni_X_val)\n",
    "\n",
    "print(\"Accuracy:\", metrics.accuracy_score(uni_y_val, uni_y_pred))"
   ]
  },
  {
   "cell_type": "code",
   "execution_count": 52,
   "metadata": {},
   "outputs": [
    {
     "name": "stdout",
     "output_type": "stream",
     "text": [
      "Accuracy: 0.859375\n"
     ]
    }
   ],
   "source": [
    "# generate bigram BOW\n",
    "\n",
    "def bigram_BOW_dict(reviews, bow):\n",
    "    for review in reviews:\n",
    "        for i in range(len(review)):\n",
    "            if i == 0:\n",
    "                key = '<s>' + ' ' + review[0]\n",
    "            else:\n",
    "                key = review[i] + ' ' + review[i-1]\n",
    "            if key not in bow:\n",
    "                bow[key] = len(bow)\n",
    "                \n",
    "def bigram_BOW(reviews, bow, label):\n",
    "    raw = []\n",
    "    length = len(bow)\n",
    "    for review in reviews:\n",
    "        cur_bow = np.zeros(length)\n",
    "        for i in range(len(review)):\n",
    "            if i == 0:\n",
    "                key = '<s>' + ' ' + review[0]\n",
    "            else:\n",
    "                key = review[i] + ' ' + review[i-1]\n",
    "            if key in bow:\n",
    "                cur_bow[bow[key]] += 1\n",
    "            else:\n",
    "                cur_bow[bow['UNKNOWN']] += 1\n",
    "        raw.append([cur_bow, label])\n",
    "        \n",
    "    return raw\n",
    "        \n",
    "bi_bow = {}\n",
    "bigram_BOW_dict(deceptive_reviews_train, bi_bow)\n",
    "bigram_BOW_dict(truthful_reviews_train, bi_bow)\n",
    "bi_bow['UNKNOWN'] = len(bi_bow)\n",
    "\n",
    "bi_train = bigram_BOW(deceptive_reviews_train, bi_bow, 0) + bigram_BOW(truthful_reviews_train, bi_bow, 1)\n",
    "bi_val = bigram_BOW(deceptive_reviews_val, bi_bow, 0) + bigram_BOW(truthful_reviews_val, bi_bow, 1)\n",
    "\n",
    "bi_train_X_y = shuffle(pd.DataFrame(bi_train, columns = ['X', 'y']))\n",
    "bi_val_X_y = shuffle(pd.DataFrame(bi_val, columns = ['X', 'y']))\n",
    "\n",
    "bi_X_train, bi_y_train = list(bi_train_X_y.loc[:,'X']), list(bi_train_X_y.loc[:,'y'])\n",
    "bi_X_val, bi_y_val = list(bi_val_X_y.loc[:,'X']), list(bi_val_X_y.loc[:,'y'])\n",
    "\n",
    "clf = MultinomialNB()\n",
    "clf.fit(bi_X_train, bi_y_train)\n",
    "\n",
    "MultinomialNB(alpha=1.0, class_prior=None, fit_prior=True)\n",
    "bi_y_pred = clf.predict(bi_X_val)\n",
    "\n",
    "print(\"Accuracy:\", metrics.accuracy_score(bi_y_val, bi_y_pred))"
   ]
  },
  {
   "cell_type": "code",
   "execution_count": null,
   "metadata": {},
   "outputs": [],
   "source": []
  }
 ],
 "metadata": {
  "kernelspec": {
   "display_name": "Python 3",
   "language": "python",
   "name": "python3"
  },
  "language_info": {
   "codemirror_mode": {
    "name": "ipython",
    "version": 3
   },
   "file_extension": ".py",
   "mimetype": "text/x-python",
   "name": "python",
   "nbconvert_exporter": "python",
   "pygments_lexer": "ipython3",
   "version": "3.7.4"
  }
 },
 "nbformat": 4,
 "nbformat_minor": 2
}
