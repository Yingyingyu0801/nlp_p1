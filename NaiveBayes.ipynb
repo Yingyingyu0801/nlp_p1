{
 "cells": [
  {
   "cell_type": "code",
   "execution_count": 1,
   "metadata": {},
   "outputs": [],
   "source": [
    "from collections import defaultdict\n",
    "import numpy as np\n",
    "import pandas as pd \n",
    "from sklearn.utils import shuffle"
   ]
  },
  {
   "cell_type": "code",
   "execution_count": 2,
   "metadata": {},
   "outputs": [],
   "source": [
    "# load text\n",
    "\n",
    "def load_train_data(bow, data_path):\n",
    "    reviews = []\n",
    "    f = open(data_path, \"r\")\n",
    "    for line in f:\n",
    "        review = line.split(\" \")\n",
    "        reviews.append(review)\n",
    "        for word in review:\n",
    "            if word not in bow:\n",
    "                bow[word] = len(bow)\n",
    "            else:\n",
    "                bow[word] = bow[word] + 1\n",
    "    return reviews\n",
    "                \n",
    "                \n",
    "def load_validation_data(data_path):\n",
    "    reviews = []\n",
    "    f = open(data_path, \"r\")\n",
    "    for line in f:\n",
    "        review = line.split(\" \")\n",
    "        reviews.append(review)\n",
    "    return reviews\n",
    "        \n",
    "def generate_BOW(reviews, bow, length, label):\n",
    "    raw = []\n",
    "    for review in reviews:\n",
    "        cur_bow = np.zeros(length)\n",
    "        for word in review:\n",
    "            if word in bow:\n",
    "                cur_bow[bow[word]] += 1\n",
    "            else:\n",
    "                cur_bow[bow['UNKNOWN']] += 1\n",
    "        raw.append([cur_bow, label])\n",
    "        \n",
    "    return raw\n",
    "                \n",
    "            \n",
    "train_decep = \"./train/deceptive.txt\"\n",
    "train_truth = \"./train/truthful.txt\"\n",
    "validation_decep = \"./validation/deceptive.txt\"\n",
    "validation_truth = \"./validation/truthful.txt\"\n",
    "\n",
    "bow = {}\n",
    "\n",
    "deceptive_reviews_train  = load_train_data(bow, train_decep)\n",
    "truthful_reviews_train = load_train_data(bow, train_truth)\n",
    "bow['UNKNOWN'] = len(bow)\n",
    "\n",
    "deceptive_reviews_val = load_validation_data(validation_decep)\n",
    "truthful_reviews_val = load_validation_data(validation_truth)            \n",
    "    \n",
    "length = len(bow)\n",
    "\n",
    "# generate BOW\n",
    "raw_train_decep = generate_BOW(deceptive_reviews_train, bow, length, 0)\n",
    "raw_train_truth = generate_BOW(truthful_reviews_train, bow, length, 1)\n",
    "raw_train = raw_train_decep + raw_train_truth\n",
    "\n",
    "raw_val_decep = generate_BOW(deceptive_reviews_val, bow, length, 0)\n",
    "raw_val_truth = generate_BOW(truthful_reviews_val, bow, length, 1)\n",
    "raw_val = raw_val_decep + raw_val_truth\n",
    "\n",
    "train_X_y = shuffle(pd.DataFrame(raw_train, columns = ['X', 'y']))\n",
    "val_X_y = shuffle(pd.DataFrame(raw_val, columns = ['X', 'y']))\n"
   ]
  },
  {
   "cell_type": "code",
   "execution_count": 3,
   "metadata": {},
   "outputs": [
    {
     "name": "stdout",
     "output_type": "stream",
     "text": [
      "Accuracy: 0.89453125\n"
     ]
    }
   ],
   "source": [
    "# train NB \n",
    "import sklearn\n",
    "from sklearn.naive_bayes import MultinomialNB\n",
    "from sklearn import metrics\n",
    "\n",
    "X_train, y_train = list(train_X_y.loc[:,'X']), list(train_X_y.loc[:,'y'])\n",
    "X_val, y_val = list(val_X_y.loc[:,'X']), list(val_X_y.loc[:,'y'])\n",
    "\n",
    "clf = MultinomialNB()\n",
    "clf.fit(X_train, y_train)\n",
    "\n",
    "MultinomialNB(alpha=1.0, class_prior=None, fit_prior=True)\n",
    "y_pred = clf.predict(X_val)\n",
    "# print(clf.predict(X_val)[-100:])\n",
    "\n",
    "print(\"Accuracy:\", metrics.accuracy_score(y_val, y_pred))"
   ]
  },
  {
   "cell_type": "code",
   "execution_count": null,
   "metadata": {},
   "outputs": [],
   "source": []
  }
 ],
 "metadata": {
  "kernelspec": {
   "display_name": "Python 3",
   "language": "python",
   "name": "python3"
  },
  "language_info": {
   "codemirror_mode": {
    "name": "ipython",
    "version": 3
   },
   "file_extension": ".py",
   "mimetype": "text/x-python",
   "name": "python",
   "nbconvert_exporter": "python",
   "pygments_lexer": "ipython3",
   "version": "3.7.4"
  }
 },
 "nbformat": 4,
 "nbformat_minor": 2
}
