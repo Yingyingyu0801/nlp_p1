{
 "cells": [
  {
   "cell_type": "code",
   "execution_count": 1,
   "metadata": {},
   "outputs": [],
   "source": [
    "from sklearn.metrics import classification_report"
   ]
  },
  {
   "cell_type": "code",
   "execution_count": 2,
   "metadata": {},
   "outputs": [],
   "source": [
    "y_true = []\n",
    "for label in range(1, -1, -1):\n",
    "    for _ in range(128):\n",
    "        y_true.append(label)"
   ]
  },
  {
   "cell_type": "code",
   "execution_count": 3,
   "metadata": {},
   "outputs": [],
   "source": [
    "uni_LM_preds = [1, 1, 1, 1, 1, 0, 1, 0, 1, 1, 1, 1, 1, 1, 1, 1, 1, 1, 1, 1, 1, 1, 1, 1, 1, 1, 1, 1, 1, 1, 1, 1, 0, 1, 1, 1, 1, 1, 1, 1, 1, 1, 1, 1, 1, 1, 1, 1, 1, 1, 1, 1, 1, 1, 1, 1, 1, 1, 1, 1, 1, 1, 1, 1, 1, 1, 1, 1, 1, 1, 1, 1, 1, 1, 1, 1, 1, 1, 1, 1, 1, 1, 1, 1, 1, 1, 1, 1, 1, 0, 1, 0, 1, 1, 1, 1, 1, 1, 1, 1, 1, 1, 1, 1, 1, 1, 1, 1, 1, 0, 1, 1, 1, 1, 1, 1, 1, 1, 1, 1, 1, 0, 1, 1, 1, 1, 1, 1, 0, 0, 0, 0, 0, 0, 0, 0, 0, 0, 0, 0, 0, 0, 1, 0, 1, 0, 0, 0, 0, 0, 0, 0, 0, 0, 0, 0, 0, 0, 0, 0, 0, 0, 0, 0, 0, 0, 1, 0, 0, 0, 0, 0, 1, 0, 0, 0, 1, 1, 0, 1, 0, 0, 0, 0, 0, 0, 0, 1, 0, 0, 0, 0, 0, 0, 0, 1, 0, 0, 0, 1, 0, 0, 0, 0, 0, 0, 0, 0, 0, 0, 0, 1, 1, 0, 0, 0, 0, 0, 0, 0, 0, 1, 0, 0, 0, 0, 0, 0, 0, 1, 0, 0, 0, 0, 0, 0, 0, 0, 0, 0, 0, 1, 0, 1, 0, 0, 0, 0, 0, 0, 0, 0, 0, 0, 0, 0]\n",
    "\n",
    "bi_LM_preds = [1, 1, 1, 1, 1, 0, 1, 1, 1, 1, 0, 1, 1, 1, 1, 1, 0, 1, 1, 1, 1, 0, 1, 1, 1, 1, 1, 1, 1, 1, 1, 1, 0, 1, 0, 1, 1, 1, 0, 1, 1, 1, 1, 1, 1, 1, 1, 1, 1, 1, 1, 1, 1, 1, 1, 1, 1, 0, 1, 1, 1, 0, 1, 1, 1, 1, 1, 1, 1, 1, 0, 1, 1, 1, 1, 1, 1, 0, 1, 1, 0, 1, 1, 1, 1, 1, 0, 1, 1, 0, 1, 1, 1, 1, 1, 1, 1, 1, 1, 1, 1, 1, 1, 1, 1, 1, 1, 1, 1, 1, 1, 1, 1, 1, 1, 0, 1, 1, 0, 0, 1, 1, 1, 1, 0, 1, 1, 1, 0, 0, 0, 0, 0, 0, 0, 0, 1, 0, 0, 0, 0, 0, 0, 0, 1, 0, 0, 0, 0, 0, 0, 0, 0, 0, 0, 0, 0, 0, 0, 0, 0, 0, 0, 0, 0, 0, 0, 0, 1, 0, 1, 0, 0, 0, 0, 0, 0, 0, 0, 0, 0, 0, 0, 0, 1, 1, 0, 1, 0, 1, 0, 1, 0, 1, 1, 0, 0, 1, 0, 0, 0, 0, 0, 1, 0, 0, 0, 0, 0, 0, 1, 0, 0, 0, 0, 0, 0, 0, 1, 0, 0, 1, 0, 0, 0, 0, 0, 0, 0, 0, 0, 1, 0, 0, 0, 0, 0, 0, 0, 0, 1, 0, 0, 1, 0, 0, 0, 1, 0, 0, 0, 0, 0, 0, 0, 0]"
   ]
  },
  {
   "cell_type": "code",
   "execution_count": 7,
   "metadata": {},
   "outputs": [
    {
     "name": "stdout",
     "output_type": "stream",
     "text": [
      "I just got back from the Monaco in Chicago ! I was very pleasantly surprised , as my husband booked this trip as a last minute getaway , and he usually picks bad places-haha . Anyway , the moment we got there the doormen greeted us warmly and helped get our luggage situatated . It was busy and the line was a little long , but it moved quickly . The lady at the front desk gave us a high floor when we requested one which was very good , especially since it seemed to be near full . The room was clean and spacious ( especially considering it 's a city hotel ) . We made a lot of use of the concierge , since again , it was so last minute we did n't really make any plans . He gave us some tips and also gave us a few places we should go for Chicago pizza yummy ! It was also great being near the theater district , and basically in the thick of everything so we saved on cab fare . I thought the coolest thing was they brought you a goldfish in a bowl for your room ! very trendy . My husband is not as easily impressed , but he was really excited about the free wine hour and the free drinks in the afternoon . Overall , really nice stay in a four star , or probably four and half star hotel !\n",
      "\n"
     ]
    }
   ],
   "source": [
    "# uni bi gram LM both make wrong prediction"
   ]
  },
  {
   "cell_type": "code",
   "execution_count": 15,
   "metadata": {},
   "outputs": [
    {
     "name": "stdout",
     "output_type": "stream",
     "text": [
      "For a hotel that touts its luxury location in Chicago the Talbot is very poor ( think Motel 6 at a Hilton price ) . Carpet is threadbare and the walls are paper thin . They are so worried about the mini-bar they constantly do these random room checks , so privacy and sleeping in are unheard of . For the prices they charge ( $ 350.average price for two people ) . It seems like the money spent on remodeling the exquisite lobby , which was happening while I stayed , could have been better spent on better insulation and more up-to-date furnishings for the guest rooms . But I guess the Talbot is more concerned with first impressions than they are returning guests , which I wo n't be .\n",
      "\n"
     ]
    }
   ],
   "source": [
    "# uni gram LM make wrong prediction but bi-gram LM not "
   ]
  },
  {
   "cell_type": "code",
   "execution_count": 14,
   "metadata": {},
   "outputs": [
    {
     "name": "stdout",
     "output_type": "stream",
     "text": [
      "I would like to add a comment , maybe this will help others when choosing for a wedding destination . My daughter was married in May of 2010 and we decided to have the special event at the Sofitel Water Tower ; we were amazed . She always wanted a ballroom type of wedding , and Sofitel made this happen for her . They took care of all the invitations , cake decor , and so much more . The special day for my daughter was worth everything . If you are going to be in the Chicago area , check them out ; you will not regret it !\n",
      "\n"
     ]
    }
   ],
   "source": [
    "# bi-gram LM make wrong prediction but uni-gram LM not   "
   ]
  },
  {
   "cell_type": "code",
   "execution_count": 4,
   "metadata": {},
   "outputs": [],
   "source": [
    "target_names=['truthful', 'deceptive']"
   ]
  },
  {
   "cell_type": "code",
   "execution_count": 35,
   "metadata": {},
   "outputs": [
    {
     "name": "stdout",
     "output_type": "stream",
     "text": [
      "uni gram LM\n",
      "              precision    recall  f1-score   support\n",
      "\n",
      "    truthful       0.94      0.88      0.91       128\n",
      "   deceptive       0.88      0.95      0.91       128\n",
      "\n",
      "   micro avg       0.91      0.91      0.91       256\n",
      "   macro avg       0.91      0.91      0.91       256\n",
      "weighted avg       0.91      0.91      0.91       256\n",
      "\n"
     ]
    }
   ],
   "source": [
    "print(\"uni gram LM\")\n",
    "print(classification_report(y_true, uni_LM_preds, target_names=target_names))"
   ]
  },
  {
   "cell_type": "code",
   "execution_count": 36,
   "metadata": {},
   "outputs": [
    {
     "name": "stdout",
     "output_type": "stream",
     "text": [
      "bi gram LM\n",
      "              precision    recall  f1-score   support\n",
      "\n",
      "    truthful       0.86      0.84      0.85       128\n",
      "   deceptive       0.85      0.86      0.85       128\n",
      "\n",
      "   micro avg       0.85      0.85      0.85       256\n",
      "   macro avg       0.85      0.85      0.85       256\n",
      "weighted avg       0.85      0.85      0.85       256\n",
      "\n"
     ]
    }
   ],
   "source": [
    "print(\"bi gram LM\")\n",
    "print(classification_report(y_true, bi_LM_preds, target_names=target_names))"
   ]
  },
  {
   "cell_type": "code",
   "execution_count": 37,
   "metadata": {},
   "outputs": [],
   "source": [
    "NBuni_preds_WithoutFilter = [int(var) for var in \"1 1 1 1 1 0 1 0 1 1 1 1 1 1 1 1 1 1 1 1 1 1 1 1 1 1 1 1 1 1 1 1 0 1 1 1 1\\\n",
    " 1 1 1 1 1 1 1 1 1 1 1 0 1 1 1 1 1 1 0 1 1 1 1 1 1 1 1 1 1 1 1 1 1 1 1 1 1\\\n",
    " 1 1 1 1 1 1 1 1 1 1 1 1 1 1 1 0 1 1 1 1 1 1 1 1 1 1 1 1 1 1 1 1 1 1 1 0 1\\\n",
    " 1 1 1 1 1 1 1 1 1 1 0 1 1 1 1 1 1 0 0 0 0 0 0 0 0 0 0 0 0 0 0 0 0 1 0 0 0\\\n",
    " 0 0 0 0 0 0 0 0 0 0 0 0 0 0 0 0 0 0 1 0 0 0 0 0 1 0 0 0 0 1 0 1 0 0 0 0 0\\\n",
    " 0 0 0 0 0 0 0 0 0 0 1 0 0 0 1 0 0 0 0 0 0 0 0 0 0 1 1 0 0 0 0 0 0 0 0 0 1\\\n",
    " 0 0 0 0 0 0 0 0 0 1 0 0 0 0 0 0 0 0 0 1 0 1 0 0 0 0 0 0 0 0 0 0 0 0\".split(\" \")]"
   ]
  },
  {
   "cell_type": "code",
   "execution_count": 38,
   "metadata": {},
   "outputs": [
    {
     "name": "stdout",
     "output_type": "stream",
     "text": [
      "NB uni preds WithoutFilter\n",
      "              precision    recall  f1-score   support\n",
      "\n",
      "    truthful       0.93      0.90      0.92       128\n",
      "   deceptive       0.90      0.94      0.92       128\n",
      "\n",
      "   micro avg       0.92      0.92      0.92       256\n",
      "   macro avg       0.92      0.92      0.92       256\n",
      "weighted avg       0.92      0.92      0.92       256\n",
      "\n"
     ]
    }
   ],
   "source": [
    "print(\"NB uni preds WithoutFilter\")\n",
    "print(classification_report(y_true, NBuni_preds_WithoutFilter, target_names=target_names))"
   ]
  },
  {
   "cell_type": "code",
   "execution_count": 20,
   "metadata": {},
   "outputs": [],
   "source": [
    "NBbi_preds_WithoutFilter = [int(var) for var in \"1 1 1 1 1 0 1 1 1 1 1 1 1 1 1 1 1 1 1 1 1 1 1 1 1 1 1 1 1 1 1 0 1 1 1 1 1\\\n",
    " 1 1 1 1 1 1 1 1 1 1 1 1 1 1 1 1 1 1 1 1 1 1 1 1 0 1 1 1 1 1 1 1 1 0 1 1 1\\\n",
    " 1 1 1 1 1 1 1 1 1 1 1 1 1 1 1 0 1 1 1 1 1 1 1 1 1 0 1 1 1 1 1 1 1 1 1 1 1\\\n",
    " 1 1 1 1 1 1 1 1 1 1 0 1 1 0 1 1 1 0 0 0 0 0 0 0 0 1 0 0 1 0 0 1 0 1 0 0 0\\\n",
    " 0 0 0 0 1 0 0 0 0 0 0 0 0 0 0 0 0 0 1 0 0 0 1 0 0 0 1 1 0 0 0 1 0 0 0 0 1\\\n",
    " 0 0 1 0 0 0 1 0 1 1 1 0 0 0 1 0 0 0 0 0 0 0 0 0 0 1 1 1 0 0 0 0 0 1 0 0 1\\\n",
    " 0 0 0 0 0 0 0 1 0 1 1 0 0 0 0 0 0 0 1 1 0 0 0 0 0 1 0 0 0 0 0 0 0 0\".split(\" \")]"
   ]
  },
  {
   "cell_type": "code",
   "execution_count": 22,
   "metadata": {
    "scrolled": true
   },
   "outputs": [
    {
     "name": "stdout",
     "output_type": "stream",
     "text": [
      "NB bi preds WithoutFilter\n",
      "              precision    recall  f1-score   support\n",
      "\n",
      "    truthful       0.93      0.78      0.85       128\n",
      "   deceptive       0.81      0.94      0.87       128\n",
      "\n",
      "   micro avg       0.86      0.86      0.86       256\n",
      "   macro avg       0.87      0.86      0.86       256\n",
      "weighted avg       0.87      0.86      0.86       256\n",
      "\n"
     ]
    }
   ],
   "source": [
    "print(\"NB bi preds WithoutFilter\")\n",
    "print(classification_report(y_true, NBbi_preds_WithoutFilter, target_names=target_names))"
   ]
  },
  {
   "cell_type": "code",
   "execution_count": 28,
   "metadata": {},
   "outputs": [],
   "source": [
    "NBbi_preds_WithFilter = [int(var) for var in \"1 1 1 1 1 0 1 0 1 1 1 1 1 1 1 1 1 1 1 1 1 1 1 1 1 1 1 1 1 1 1 0 1 0 1 1 1\\\n",
    " 1 1 1 1 1 1 1 1 1 1 1 0 1 1 1 1 1 1 1 1 0 1 1 1 0 1 1 1 1 1 1 1 1 0 1 1 1\\\n",
    " 1 1 1 1 1 1 0 0 1 1 1 1 0 1 1 0 1 0 1 1 0 1 1 1 1 0 1 1 1 1 1 1 0 1 1 0 1\\\n",
    " 0 1 1 1 1 1 0 1 1 0 0 1 1 0 1 1 1 0 0 0 0 0 0 0 0 0 0 0 0 0 0 1 0 0 0 0 0\\\n",
    " 0 0 0 0 0 0 0 0 0 0 0 0 0 0 0 0 0 0 1 0 0 0 0 0 0 0 0 0 0 0 0 0 0 0 0 0 0\\\n",
    " 0 0 1 0 0 0 0 0 0 0 0 0 0 0 0 0 0 0 0 0 0 0 0 0 0 0 1 0 0 0 0 0 0 0 0 0 1\\\n",
    " 0 0 0 0 0 0 0 0 0 1 0 0 0 0 0 0 0 0 0 0 0 0 0 0 0 0 0 0 0 0 0 0 0 0\".split(\" \")]"
   ]
  },
  {
   "cell_type": "code",
   "execution_count": 29,
   "metadata": {},
   "outputs": [
    {
     "name": "stdout",
     "output_type": "stream",
     "text": [
      "NB bi preds With Filter\n",
      "              precision    recall  f1-score   support\n",
      "\n",
      "    truthful       0.85      0.95      0.90       128\n",
      "   deceptive       0.95      0.83      0.88       128\n",
      "\n",
      "   micro avg       0.89      0.89      0.89       256\n",
      "   macro avg       0.90      0.89      0.89       256\n",
      "weighted avg       0.90      0.89      0.89       256\n",
      "\n"
     ]
    }
   ],
   "source": [
    "print(\"NB bi preds With Filter\")\n",
    "print(classification_report(y_true, NBbi_preds_WithFilter, target_names=target_names))"
   ]
  },
  {
   "cell_type": "code",
   "execution_count": 30,
   "metadata": {},
   "outputs": [],
   "source": [
    "DIY_preds = [int(var) for var in \"0 0 0 0 0 0 0 0 1 0 0 0 1 0 0 1 0 1 0 0 1 0 0 0 1 1 1 0 0 1 1 0 0 0 0 0 0\\\n",
    " 0 0 0 0 0 0 0 0 0 1 0 0 0 0 0 0 0 0 1 0 0 1 0 0 0 0 0 0 0 0 0 0 0 0 0 0 1\\\n",
    " 1 0 0 0 0 0 0 0 0 0 0 0 1 1 0 0 0 0 0 0 0 0 0 0 0 1 1 0 1 0 0 0 0 0 0 0 0\\\n",
    " 0 1 0 1 0 0 0 0 0 0 0 0 1 0 0 0 0 0 0 0 0 0 0 0 1 0 0 0 0 0 0 1 0 0 0 0 0\\\n",
    " 0 0 0 0 0 0 0 0 0 0 0 0 0 0 0 0 0 0 0 0 0 0 0 0 0 0 0 0 0 0 0 0 0 0 0 0 0\\\n",
    " 0 0 0 0 0 0 0 0 0 0 0 0 0 1 0 0 0 0 0 1 0 0 1 0 0 0 0 0 0 0 0 0 0 0 1 1 0\\\n",
    " 0 0 0 0 0 0 0 0 0 0 0 0 0 0 0 0 0 0 0 0 0 0 0 0 0 0 0 0 0 0 0 0 1 0\".split(\" \")]"
   ]
  },
  {
   "cell_type": "code",
   "execution_count": 31,
   "metadata": {},
   "outputs": [
    {
     "name": "stdout",
     "output_type": "stream",
     "text": [
      "DIY\n",
      "              precision    recall  f1-score   support\n",
      "\n",
      "    truthful       0.53      0.94      0.68       128\n",
      "   deceptive       0.74      0.18      0.29       128\n",
      "\n",
      "   micro avg       0.56      0.56      0.56       256\n",
      "   macro avg       0.64      0.56      0.48       256\n",
      "weighted avg       0.64      0.56      0.48       256\n",
      "\n"
     ]
    }
   ],
   "source": [
    "print(\"DIY\")\n",
    "print(classification_report(y_true, DIY_preds, target_names=target_names))"
   ]
  },
  {
   "cell_type": "code",
   "execution_count": null,
   "metadata": {},
   "outputs": [],
   "source": [
    " "
   ]
  }
 ],
 "metadata": {
  "kernelspec": {
   "display_name": "Python 3",
   "language": "python",
   "name": "python3"
  },
  "language_info": {
   "codemirror_mode": {
    "name": "ipython",
    "version": 3
   },
   "file_extension": ".py",
   "mimetype": "text/x-python",
   "name": "python",
   "nbconvert_exporter": "python",
   "pygments_lexer": "ipython3",
   "version": "3.7.1"
  }
 },
 "nbformat": 4,
 "nbformat_minor": 2
}
