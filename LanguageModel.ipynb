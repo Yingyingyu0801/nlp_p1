{
 "cells": [
  {
   "cell_type": "code",
   "execution_count": 4,
   "metadata": {},
   "outputs": [],
   "source": [
    "import numpy as np\n",
    "import os\n",
    "from collections import defaultdict\n",
    "from nltk.stem import PorterStemmer\n",
    "import math"
   ]
  },
  {
   "cell_type": "code",
   "execution_count": 108,
   "metadata": {},
   "outputs": [],
   "source": [
    "def uni_generator(name, k=1, unkp=0.0005):    \n",
    "    ps = PorterStemmer()\n",
    "\n",
    "    total = 0\n",
    "    count = defaultdict(int)\n",
    "    f = open(\"./train/\" + name + \".txt\", \"r\")\n",
    "    for review in f:\n",
    "        words = review.split(\" \")\n",
    "        total += len(review)\n",
    "        for word in words:\n",
    "            word = ps.stem(word)\n",
    "            count[word] += 1\n",
    "\n",
    "    # least frequent words         \n",
    "    unk_words = set(sorted(count.keys(), key=lambda x:count[x])[:int(unkp*len(count))])\n",
    "    \n",
    "    # redo counting\n",
    "    count = defaultdict(int)\n",
    "    f = open(\"./train/\" + name + \".txt\", \"r\")\n",
    "    for review in f:\n",
    "        words = review.split(\" \")\n",
    "        for word in words:\n",
    "            word = ps.stem(word)\n",
    "            if word in unk_words:\n",
    "                count[\"<UNK>\"] += 1\n",
    "            else:\n",
    "                count[word] += 1\n",
    "\n",
    "    # probability with smooth \n",
    "    prob_uni = {word: (count[word]+k)/(total + len(count)) for word in count}\n",
    "    return prob_uni"
   ]
  },
  {
   "cell_type": "code",
   "execution_count": 194,
   "metadata": {},
   "outputs": [],
   "source": [
    "def bi_generator(name, unkp=0.0005):\n",
    "    ps = PorterStemmer()\n",
    "    \n",
    "    # least frequent words\n",
    "    count_uni = defaultdict(int)\n",
    "    count_bi = defaultdict(int)\n",
    "    f = open(\"./train/\" + name + \".txt\", \"r\")\n",
    "    for review in f:      \n",
    "        words = review.split(\" \")\n",
    "        for word in words:\n",
    "            word = ps.stem(word)\n",
    "            count_uni[word] += 1\n",
    "        \n",
    "        for idx in range(len(words)-1):\n",
    "            combo = ps.stem(words[idx]) + \" \" + ps.stem(words[idx+1])\n",
    "            count_bi[combo] += 1\n",
    "    unk_uni = set(sorted(count_uni.keys(), key=lambda x:count_uni[x])[:int(unkp*len(count_uni))])\n",
    "    unk_bi = set(sorted(count_bi.keys(), key=lambda x:count_bi[x])[:int(unkp*len(count_bi))])\n",
    "    \n",
    "    # redo counting\n",
    "    count_uni = defaultdict(int)\n",
    "    count_bi = defaultdict(int)\n",
    "    f = open(\"./train/\" + name + \".txt\", \"r\")\n",
    "    for review in f:      \n",
    "        words = review.split(\" \")\n",
    "        \n",
    "        # insert start symbol\n",
    "        words = [\"<S>\"] + words\n",
    "        i = 0\n",
    "        while i < len(words)-1:\n",
    "            if ps.stem(words[i]) in [\".\", \"?\", \"!\"]:\n",
    "                words.insert(i+1, \"<E>\")\n",
    "                words.insert(i+2, \"<S>\")\n",
    "            i += 1\n",
    "        words.append(\"<E>\")\n",
    "            \n",
    "        # uni\n",
    "        for word in words:\n",
    "            word = ps.stem(word)\n",
    "            if word in unk_uni:\n",
    "                count_uni[\"<UNK>\"] += 1\n",
    "            else:\n",
    "                count_uni[word] += 1       \n",
    "        \n",
    "        # bi\n",
    "        # add start symbol\n",
    "        for idx in range(len(words)-1):\n",
    "            word1 = ps.stem(words[idx])\n",
    "            word2 = ps.stem(words[idx+1])\n",
    "            \n",
    "\n",
    "            # add unk\n",
    "            # smooth sceneria\n",
    "            if word1 in unk_uni and word2 in unk_uni:\n",
    "                count_bi[\"<UNK> <UNK>\"] += 1\n",
    "            elif word1 in unk_uni:\n",
    "                count_bi[\"<UNK> \" + word2] += 1\n",
    "            elif word2 in unk_uni:\n",
    "                count_bi[word1 + \" <UNK>\"] += 1\n",
    "            else:\n",
    "                combo = word1 + \" \" + word2\n",
    "                count_bi[combo] += 1       \n",
    "    return count_uni, count_bi   "
   ]
  },
  {
   "cell_type": "code",
   "execution_count": 195,
   "metadata": {},
   "outputs": [],
   "source": [
    "prob_uni_d = uni_generator(\"deceptive\")"
   ]
  },
  {
   "cell_type": "code",
   "execution_count": 196,
   "metadata": {},
   "outputs": [],
   "source": [
    "count_uni_d, count_bi_d  = bi_generator(\"deceptive\")"
   ]
  },
  {
   "cell_type": "code",
   "execution_count": 197,
   "metadata": {},
   "outputs": [],
   "source": [
    "prob_uni_t = uni_generator(\"truthful\")"
   ]
  },
  {
   "cell_type": "code",
   "execution_count": 198,
   "metadata": {},
   "outputs": [],
   "source": [
    "count_uni_t, count_bi_t = bi_generator(\"truthful\")"
   ]
  },
  {
   "cell_type": "code",
   "execution_count": 199,
   "metadata": {},
   "outputs": [],
   "source": [
    "# perplexity\n",
    "def uni_predict(words, prob_uni):\n",
    "    ps = PorterStemmer()\n",
    "    temp = 0\n",
    "    for word in words:\n",
    "        word = ps.stem(word)\n",
    "        if word not in prob_uni:\n",
    "            word = \"<UNK>\"\n",
    "        temp -=math.log(prob_uni[word])\n",
    "    return math.exp(temp/len(words))"
   ]
  },
  {
   "cell_type": "code",
   "execution_count": 200,
   "metadata": {},
   "outputs": [],
   "source": [
    "# perplexity\n",
    "def bi_predict(words, count_uni, count_bi, k=1):\n",
    "    ps = PorterStemmer()\n",
    "    \n",
    "    \n",
    "    # insert start symbol\n",
    "    words = [\"<S>\"] + words\n",
    "    i = 0\n",
    "    while i < len(words):\n",
    "        if ps.stem(words[i]) in [\".\", \"?\", \"!\"]:\n",
    "            words.insert(i+1, \"<E>\")\n",
    "            words.insert(i+2, \"<S>\")\n",
    "        i += 1\n",
    "    words.append(\"<E>\")\n",
    "        \n",
    "    # calculate\n",
    "    temp = 0\n",
    "    for i in range(len(words)-1):\n",
    "        word1 = ps.stem(words[i])\n",
    "        word2 = ps.stem(words[i+1])\n",
    "        \n",
    "        # unk scenaria\n",
    "        if word1 not in count_uni and word2 not in count_uni:\n",
    "            combo = \"<UNK> <UNK>\"\n",
    "        elif word1 not in count_uni:\n",
    "            combo = \"<UNK> \" + word2\n",
    "        elif word2 not in count_uni:\n",
    "            combo = word1 + \" <UNK>\"\n",
    "        else:\n",
    "            combo = word1 + \" \" + word2\n",
    "        \n",
    "        if word1 not in count_uni:\n",
    "            word1 = \"<UNK>\"\n",
    "        \n",
    "        p = (count_bi[combo] + k)/(count_uni[word1] + k*len(count_uni))\n",
    "        temp -=math.log(p)\n",
    "    return math.exp(temp/len(words)-1)"
   ]
  },
  {
   "cell_type": "code",
   "execution_count": 201,
   "metadata": {},
   "outputs": [
    {
     "name": "stdout",
     "output_type": "stream",
     "text": [
      "0.921875\n",
      "0.84765625\n"
     ]
    }
   ],
   "source": [
    "classes = [\"deceptive\", \"truthful\"]\n",
    "\n",
    "\n",
    "num_corpus = 0\n",
    "correct_uni = 0\n",
    "correct_bi = 0\n",
    "for label in classes:\n",
    "    f = open(\"./validation/\" +  label + \".txt\", \"r\")\n",
    "    for review in f:\n",
    "        num_corpus += 1\n",
    "        words = review.split(\" \")\n",
    "\n",
    "        # uni-gram\n",
    "        p_uni_d = uni_predict(words, prob_uni_d)\n",
    "        p_uni_t = uni_predict(words, prob_uni_t)\n",
    "        if p_uni_d < p_uni_t:\n",
    "            if label == \"deceptive\":\n",
    "                correct_uni += 1\n",
    "#                 print(\"UNI \" + label + \": \" + str(p_uni_d))\n",
    "        else:\n",
    "            if label == \"truthful\":\n",
    "                correct_uni += 1\n",
    "#                 print(\"UNI \" + label + \": \" + str(p_uni_t))\n",
    "        \n",
    "#         print()\n",
    "        # bi-gram\n",
    "        p_bi_d = bi_predict(words, count_uni_d, count_bi_d, k=0.01)\n",
    "        p_bi_t = bi_predict(words, count_uni_t, count_bi_t, k=0.01)\n",
    "        if p_bi_d < p_bi_t:\n",
    "            if label == \"deceptive\":\n",
    "                correct_bi += 1\n",
    "#                 print(\"BI \" + label + \": \" + str(p_bi_d))\n",
    "        else:\n",
    "            if label == \"truthful\":\n",
    "                correct_bi += 1\n",
    "#                 print(\"BI \" + label + \": \" + str(p_bi_t))\n",
    "\n",
    "print(correct_uni/num_corpus)\n",
    "print(correct_bi/num_corpus)"
   ]
  },
  {
   "cell_type": "code",
   "execution_count": 120,
   "metadata": {},
   "outputs": [],
   "source": [
    "k = 0.01\n",
    "result = []\n",
    "f = open(\"./test/test.txt\", \"r\")\n",
    "for idx, review in enumerate(f):\n",
    "    words = review.split(\" \")\n",
    "    # bi-gram\n",
    "    p_d = bi_predict(words, count_uni_d, count_bi_d, k)\n",
    "    p_t = bi_predict(words, count_uni_t, count_bi_t, k)\n",
    "    if p_d < p_t:\n",
    "        result.append(str(1))\n",
    "    else:\n",
    "        result.append(str(0))\n"
   ]
  },
  {
   "cell_type": "code",
   "execution_count": 202,
   "metadata": {},
   "outputs": [],
   "source": [
    "k = 0.01\n",
    "result = []\n",
    "f = open(\"./test/test.txt\", \"r\")\n",
    "for idx, review in enumerate(f):\n",
    "    words = review.split(\" \")\n",
    "    # bi-gram\n",
    "    p_d = uni_predict(words, prob_uni_d)\n",
    "    p_t = uni_predict(words, prob_uni_t)\n",
    "    if p_d < p_t:\n",
    "        result.append(str(1))\n",
    "    else:\n",
    "        result.append(str(0))"
   ]
  },
  {
   "cell_type": "code",
   "execution_count": 203,
   "metadata": {},
   "outputs": [],
   "source": [
    "with open('prediction_LM.csv','a') as file:\n",
    "    file.write(\"Id,Prediction\\n\")\n",
    "    for idx, val in enumerate(result):\n",
    "        file.write(\",\".join([str(idx), val]))\n",
    "        file.write('\\n')"
   ]
  },
  {
   "cell_type": "code",
   "execution_count": null,
   "metadata": {},
   "outputs": [],
   "source": []
  }
 ],
 "metadata": {
  "kernelspec": {
   "display_name": "Python 3",
   "language": "python",
   "name": "python3"
  },
  "language_info": {
   "codemirror_mode": {
    "name": "ipython",
    "version": 3
   },
   "file_extension": ".py",
   "mimetype": "text/x-python",
   "name": "python",
   "nbconvert_exporter": "python",
   "pygments_lexer": "ipython3",
   "version": "3.7.1"
  }
 },
 "nbformat": 4,
 "nbformat_minor": 2
}
